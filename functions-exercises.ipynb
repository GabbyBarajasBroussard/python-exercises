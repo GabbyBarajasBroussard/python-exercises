{
 "cells": [
  {
   "cell_type": "markdown",
   "metadata": {},
   "source": [
    "Define a function named is_two. It should accept one input and return True if the passed input is either the number or the string 2, False otherwise."
   ]
  },
  {
   "cell_type": "code",
   "execution_count": 16,
   "metadata": {},
   "outputs": [
    {
     "data": {
      "text/plain": [
       "False"
      ]
     },
     "execution_count": 16,
     "metadata": {},
     "output_type": "execute_result"
    }
   ],
   "source": [
    "def is_two (letter):\n",
    "    if letter == 2 or letter == \"2\" or letter ==\"two\":\n",
    "        return True\n",
    "    else:\n",
    "        return False\n",
    "is_two(\"four\")"
   ]
  },
  {
   "cell_type": "markdown",
   "metadata": {},
   "source": [
    "Define a function named is_vowel. It should return True if the passed string is a vowel, False otherwise."
   ]
  },
  {
   "cell_type": "code",
   "execution_count": 18,
   "metadata": {},
   "outputs": [
    {
     "data": {
      "text/plain": [
       "True"
      ]
     },
     "execution_count": 18,
     "metadata": {},
     "output_type": "execute_result"
    }
   ],
   "source": [
    "def is_vowel (string):\n",
    "    lvowel= ['a', 'e', 'i', 'o', 'u']\n",
    "    uvowel= ['A', 'E', 'I', 'O', 'U']\n",
    "    if (string in lvowel) or (string in uvowel):\n",
    "        return True\n",
    "    else:\n",
    "        return False\n",
    "is_vowel('banana')\n",
    "is_vowel('a')"
   ]
  },
  {
   "cell_type": "markdown",
   "metadata": {},
   "source": [
    "Define a function named is_consonant. It should return True if the passed string is a consonant, False otherwise. Use your is_vowel function to accomplish this."
   ]
  },
  {
   "cell_type": "code",
   "execution_count": 21,
   "metadata": {},
   "outputs": [
    {
     "data": {
      "text/plain": [
       "True"
      ]
     },
     "execution_count": 21,
     "metadata": {},
     "output_type": "execute_result"
    }
   ],
   "source": [
    "def is_consonant (string):\n",
    "    lvowel= ['a', 'e', 'i', 'o', 'u']\n",
    "    uvowel= ['A', 'E', 'I', 'O', 'U']\n",
    "    if (string not in lvowel) or (string not in uvowel):\n",
    "        return True\n",
    "    else:\n",
    "        return False\n",
    "is_consonant ('B')\n",
    "is_consonant ('a')"
   ]
  },
  {
   "cell_type": "markdown",
   "metadata": {},
   "source": [
    "Define a function that accepts a string that is a word. The function should capitalize the first letter of the word if the word starts with a consonant."
   ]
  },
  {
   "cell_type": "code",
   "execution_count": 67,
   "metadata": {},
   "outputs": [
    {
     "data": {
      "text/plain": [
       "'Apple'"
      ]
     },
     "execution_count": 67,
     "metadata": {},
     "output_type": "execute_result"
    }
   ],
   "source": [
    "def capital_string(string):\n",
    "    if is_consonant(string[0].lower())== True:\n",
    "        return string.capitalize()\n",
    "    else:\n",
    "        return string.lower()\n",
    "capital_string('apple')"
   ]
  },
  {
   "cell_type": "markdown",
   "metadata": {},
   "source": [
    "Define a function named calculate_tip. It should accept a tip percentage (a number between 0 and 1) and the bill total, and return the amount to tip."
   ]
  },
  {
   "cell_type": "code",
   "execution_count": 46,
   "metadata": {},
   "outputs": [],
   "source": [
    "def calculate_tip(bill, percentage):\n",
    "    tip= bill * percentage\n",
    "    total_bill= bill + tip\n",
    "    return total_bill"
   ]
  },
  {
   "cell_type": "markdown",
   "metadata": {},
   "source": [
    "Define a function named apply_discount. It should accept a original price, and a discount percentage, and return the price after the discount is applied."
   ]
  },
  {
   "cell_type": "code",
   "execution_count": 53,
   "metadata": {},
   "outputs": [
    {
     "data": {
      "text/plain": [
       "75.0"
      ]
     },
     "execution_count": 53,
     "metadata": {},
     "output_type": "execute_result"
    }
   ],
   "source": [
    "def apply_discount(original, percentage):\n",
    "    discount= original * percentage\n",
    "    total_price= original - discount\n",
    "    return total_price\n",
    "apply_discount(100, .25)"
   ]
  },
  {
   "cell_type": "markdown",
   "metadata": {},
   "source": [
    "Define a function named handle_commas. It should accept a string that is a number that contains commas in it as input, and return a number as output."
   ]
  },
  {
   "cell_type": "code",
   "execution_count": 51,
   "metadata": {},
   "outputs": [
    {
     "data": {
      "text/plain": [
       "1000"
      ]
     },
     "execution_count": 51,
     "metadata": {},
     "output_type": "execute_result"
    }
   ],
   "source": [
    "def handle_commas (string):\n",
    "    return int(string.replace(\",\", \"\"))\n",
    "handle_commas(\"1,000\")"
   ]
  },
  {
   "cell_type": "markdown",
   "metadata": {},
   "source": [
    "Define a function named get_letter_grade. It should accept a number and return the letter grade associated with that number (A-F)."
   ]
  },
  {
   "cell_type": "code",
   "execution_count": 54,
   "metadata": {},
   "outputs": [
    {
     "data": {
      "text/plain": [
       "'C'"
      ]
     },
     "execution_count": 54,
     "metadata": {},
     "output_type": "execute_result"
    }
   ],
   "source": [
    "def get_letter_grade (raw_score):\n",
    "    if raw_score >= 90:\n",
    "        return \"A\"\n",
    "    elif raw_score >= 80 and raw_score <= 89:\n",
    "        return \"B\"\n",
    "    elif raw_score >= 76 and raw_score <= 79:\n",
    "        return \"C\"\n",
    "    elif raw_score >= 70 and raw_score <=75:\n",
    "        return \"D\"\n",
    "    elif raw_score <= 60:\n",
    "        return \"D\"\n",
    "get_letter_grade(79)"
   ]
  },
  {
   "cell_type": "markdown",
   "metadata": {},
   "source": [
    "Define a function named remove_vowels that accepts a string and returns a string with all the vowels removed."
   ]
  },
  {
   "cell_type": "code",
   "execution_count": 56,
   "metadata": {},
   "outputs": [],
   "source": [
    "def remove_vowels(string):\n",
    "    vowels = [\"a\", \"e\", \"i\", \"o\", \"u\"]\n",
    "    chars = []\n",
    "    for i in string: \n",
    "        if i.lower() not in vow:\n",
    "            chars.append(i)\n",
    "    return \"\".join(chars)"
   ]
  },
  {
   "cell_type": "code",
   "execution_count": null,
   "metadata": {},
   "outputs": [],
   "source": []
  },
  {
   "cell_type": "markdown",
   "metadata": {},
   "source": [
    "Define a function named normalize_name. It should accept a string and return a valid python identifier, that is:\n",
    "anything that is not a valid python identifier should be removed\n",
    "leading and trailing whitespace should be removed\n",
    "everything should be lowercase\n",
    "spaces should be replaced with underscores\n",
    "for example:\n",
    "Name will become name\n",
    "First Name will become first_name\n",
    "% Completed will become completed"
   ]
  },
  {
   "cell_type": "code",
   "execution_count": 64,
   "metadata": {},
   "outputs": [
    {
     "data": {
      "text/plain": [
       "'carys_is_the_best_dog_ever'"
      ]
     },
     "execution_count": 64,
     "metadata": {},
     "output_type": "execute_result"
    }
   ],
   "source": [
    "def normalize_name(name):\n",
    "    name = name.strip() #first I am removing all spaces at the beginning and the end of the string\n",
    "    name = name.lower() # then I am converting all letters in the string to lowercase\n",
    "    name = name.replace(\" \", \"_\") # then I m removing all spaces and replacing them with underscores\n",
    "    return name # i am now returning the function with all the corrections\n",
    "normalize_name(\"CaRyS iS tHe BeSt DoG eVeR\")"
   ]
  },
  {
   "cell_type": "markdown",
   "metadata": {},
   "source": [
    "Write a function named cumulative_sum that accepts a list of numbers and returns a list that is the cumulative sum of the numbers in the list.\n",
    "cumulative_sum([1, 1, 1]) returns [1, 2, 3]\n",
    "cumulative_sum([1, 2, 3, 4]) returns [1, 3, 6, 10]"
   ]
  },
  {
   "cell_type": "code",
   "execution_count": 72,
   "metadata": {},
   "outputs": [
    {
     "data": {
      "text/plain": [
       "[1, 3, 6, 10]"
      ]
     },
     "execution_count": 72,
     "metadata": {},
     "output_type": "execute_result"
    }
   ],
   "source": [
    "def cumulative_sum (lists):\n",
    "    cumulative_list = []   # i am making an empty list\n",
    "    length = len(lists)  \n",
    "    cumulative_list = [sum(lists[0:x:1]) for x in range(0, length+1)]  \n",
    "    return cumulative_list[1:]\n",
    "(cumulative_sum([1,1,1]))\n",
    "cumulative_sum([1,2,3,4])"
   ]
  },
  {
   "cell_type": "markdown",
   "metadata": {},
   "source": [
    "Additional Exercise\n",
    "Once you've completed the above exercises, follow the directions from https://gist.github.com/zgulde/ec8ed80ad8216905cda83d5645c60886 in order to thouroughly comment your code to explain your code.\n",
    "Bonus\n",
    "Create a function named twelveto24. It should accept a string in the format 10:45am or 4:30pm and return a string that is the representation of the time in a 24-hour format. Bonus write a function that does the opposite.\n",
    "Create a function named col_index. It should accept a spreadsheet column name, and return the index number of the column.\n",
    "col_index('A') returns 1\n",
    "col_index('B') returns 2\n",
    "col_index('AA') returns 27"
   ]
  }
 ],
 "metadata": {
  "kernelspec": {
   "display_name": "Python 3",
   "language": "python",
   "name": "python3"
  },
  "language_info": {
   "codemirror_mode": {
    "name": "ipython",
    "version": 3
   },
   "file_extension": ".py",
   "mimetype": "text/x-python",
   "name": "python",
   "nbconvert_exporter": "python",
   "pygments_lexer": "ipython3",
   "version": "3.7.6"
  }
 },
 "nbformat": 4,
 "nbformat_minor": 4
}
