{
 "cells": [
  {
   "cell_type": "code",
   "execution_count": 35,
   "metadata": {},
   "outputs": [
    {
     "data": {
      "text/plain": [
       "{'a': []}"
      ]
     },
     "execution_count": 35,
     "metadata": {},
     "output_type": "execute_result"
    }
   ],
   "source": [
    "# Identify the data type of the following values:\n",
    "\n",
    "99.9 # Float\n",
    "\"False\" #string\n",
    "False #boolean\n",
    "'0' #string\n",
    "0 #integer\n",
    "True # boolean\n",
    "'True' #string\n",
    "[{}] # list\n",
    "{'a': []} #dictionary"
   ]
  },
  {
   "cell_type": "markdown",
   "metadata": {},
   "source": [
    "For each of the following code blocks, read the expression and predict what the result of evaluating it would be, then execute the expression in your Python REPL. What data type would best represent:\n",
    "<ol> \n",
    "<li>A term or phrase typed into a search box? string\n",
    "<li>If a user is logged in? a boolean\n",
    "<li>A discount amount to apply to a user's shopping cart? a dictionary and integer\n",
    "<li>Whether or not a coupon code is valid? boolean\n",
    "<li>An email address typed into a registration form? string\n",
    "<li>The price of a product? integer\n",
    "<li>A Matrix? integer\n",
    "<li>The email addresses collected from a registration form? dictionary\n",
    "<li>Information about applicants to Codeup's data science program? dictionary"
   ]
  },
  {
   "cell_type": "code",
   "execution_count": 37,
   "metadata": {},
   "outputs": [
    {
     "ename": "SyntaxError",
     "evalue": "invalid syntax (<ipython-input-37-7149f58d4e14>, line 1)",
     "output_type": "error",
     "traceback": [
      "\u001b[0;36m  File \u001b[0;32m\"<ipython-input-37-7149f58d4e14>\"\u001b[0;36m, line \u001b[0;32m1\u001b[0m\n\u001b[0;31m    For each of the following code blocks, read the expression and predict what the result of evaluating it would be, then execute the expression in your Python REPL.\u001b[0m\n\u001b[0m           ^\u001b[0m\n\u001b[0;31mSyntaxError\u001b[0m\u001b[0;31m:\u001b[0m invalid syntax\n"
     ]
    }
   ],
   "source": [
    "For each of the following code blocks, read the expression and predict what the result of evaluating it would be, then execute the expression in your Python REPL.\n",
    "\n",
    "'1' + 2 # I predict an error because '1' is a string and 2 is an integer\n",
    "6 % 4 # I predict that 4 can only go into 6 1 time and leave a remainder of 2\n",
    "type(6 % 4) #I predict this will return that the product of this equation is an integer.\n",
    "type(type(6 % 4))#I predict this will return that the product of this equation is an integer. What actually happened is that it returned type as the inner equation was a type equation.\n",
    "'3 + 4 is ' + 3 + 4 # I predict an error because strings can't be concat with int.\n",
    "0 < 0 #I predict that it will give the boolean result of false because 0 is not less than 0.\n",
    "'False' == False #This will return the value of false because string cannot match boolean\n",
    "True == 'True' #This will return the value of false because string cannot match boolean\n",
    "5 >= -5 #This will return the value of true because 5 is larger than -5.\n",
    "!False or False #nothing will happen because there is no command\n",
    "True or \"42\" #True will print because 42 is a string and needs to be printed.\n",
    "!True && !False #an error will occur, not pythonically correct\n",
    "6 % 5 #will return 1\n",
    "5 < 4 and 1 == 1 #will return false because 5 is not less than 4\n",
    "'codeup' == 'codeup' and 'codeup' == 'Codeup' #will return false because c does not equal C\n",
    "4 >= 0 and 1 !== '1' #error will occur because !== needs to be !=\n",
    "6 % 3 == 0 #will return true because 6 does not fit into 3\n",
    "5 % 2 != 0 #will return true because 5 does not fit into 2\n",
    "[1] + 2 #error because list and int can't concat together\n",
    "[1] + [2] #will add both together into one list\n",
    "[1] * 2 #will make a list with [1,1]\n",
    "[1] * [2] #error because cannot multiply lists only int\n",
    "[] + [] == [] #this returned tru because [] does equal []\n",
    "{} + {} #error because dictionaries cannot be concat this way"
   ]
  },
  {
   "cell_type": "code",
   "execution_count": null,
   "metadata": {},
   "outputs": [],
   "source": [
    "You have rented some movies for your kids: The little mermaid (for 3 days), Brother Bear (for 5 days, they love it), and Hercules (1 day, you don't know yet if they're going to like it). If price for a movie per day is 3 dollars, how much will youhave to pay? "
   ]
  },
  {
   "cell_type": "code",
   "execution_count": 11,
   "metadata": {},
   "outputs": [
    {
     "name": "stdout",
     "output_type": "stream",
     "text": [
      "Your total cost will be $ 27\n"
     ]
    }
   ],
   "source": [
    "# solving the problem through hardcoding the amount of days into each line then adding at the end\n",
    "ppm= 3\n",
    "tlm= 3 * ppm\n",
    "bb= 5 * ppm\n",
    "hr= 1 * ppm\n",
    "total_cost = tlm + bb + hr\n",
    "print(\"Your total cost will be $\",total_cost)"
   ]
  },
  {
   "cell_type": "code",
   "execution_count": 14,
   "metadata": {},
   "outputs": [
    {
     "name": "stdout",
     "output_type": "stream",
     "text": [
      "Your total cost will be $ 27\n"
     ]
    }
   ],
   "source": [
    "# creating a function where the user can input up to 3 different amount of rentals days to find the total cost of renting a movie. \n",
    "def movie_night(a, b, c):\n",
    "    movie1= a * ppm\n",
    "    movie2= b * ppm\n",
    "    movie3= c * ppm\n",
    "    total_cost = movie1+movie2+movie3\n",
    "    return print(\"Your total cost will be $\",total_cost)\n",
    "movie_night(3, 5, 1)"
   ]
  },
  {
   "cell_type": "markdown",
   "metadata": {},
   "source": [
    "Suppose you're working as a contractor for 3 companies: Google, Amazon and Facebook, they pay you a different rate per hour. Google pays 400 dollars per hour, Amazon 380, and Facebook 350. How much will you receive in payment for this week? You worked 10 hours for Facebook, 6 hours for Google and 4 hours for Amazon."
   ]
  },
  {
   "cell_type": "code",
   "execution_count": 18,
   "metadata": {},
   "outputs": [
    {
     "name": "stdout",
     "output_type": "stream",
     "text": [
      "Your paycheck will be $ 7420\n"
     ]
    }
   ],
   "source": [
    "#solving the problem through hardcoding the amount of hours worked into each line then solving the problem\n",
    "google= 400\n",
    "amazon= 380\n",
    "facebook= 350\n",
    "paycheck_amount= (facebook*10)+(google*6)+(amazon*4)\n",
    "print(\"Your paycheck will be $\",paycheck_amount)"
   ]
  },
  {
   "cell_type": "code",
   "execution_count": 19,
   "metadata": {},
   "outputs": [
    {
     "name": "stdout",
     "output_type": "stream",
     "text": [
      "Please input the amount of hours worked in the following order: facebook, google, amazon.\n",
      "Your paycheck will be $ 7420\n"
     ]
    }
   ],
   "source": [
    "# creating a function where the user can input the three amounts of hours \n",
    "# If I prompted the user I would display the following message:\n",
    "# print(\"Please input the amount of hours worked in the following order: facebook, google, amazon.\")\n",
    "def contractor (n1, n2, n3):\n",
    "    fbp= facebook * n1\n",
    "    gp= google * n2\n",
    "    ap= amazon * n3\n",
    "    paycheck = gp + ap + fbp\n",
    "    return print(\"Your paycheck will be $\",paycheck)\n",
    "contractor(10, 6, 4)"
   ]
  },
  {
   "cell_type": "markdown",
   "metadata": {},
   "source": [
    "A student can be enrolled to a class only if the class is not full and the class schedule does not conflict with her current schedule."
   ]
  },
  {
   "cell_type": "code",
   "execution_count": null,
   "metadata": {},
   "outputs": [],
   "source": [
    "#hard coding the boolean value to solve the problem\n",
    "class_empty= True\n",
    "class_time= False\n",
    "class_enroll = class_empty and class_time\n",
    "print(class_enroll)"
   ]
  },
  {
   "cell_type": "code",
   "execution_count": 56,
   "metadata": {},
   "outputs": [
    {
     "name": "stdout",
     "output_type": "stream",
     "text": [
      "You may enroll for the class.\n",
      "You may not enroll for the class. Please check that the class\n"
     ]
    }
   ],
   "source": [
    "# creating a function to solve the problem\n",
    "def school_schedule (opening, time):\n",
    "    if opening == \"yes\" and time == \"no\":\n",
    "        return print(\"You may enroll for the class.\")\n",
    "    else:\n",
    "        return print(\"You may not enroll for the class. Please check that the class\")\n",
    "school_schedule(\"yes\", \"no\")\n",
    "school_schedule(\"no\", \"no\")"
   ]
  },
  {
   "cell_type": "markdown",
   "metadata": {},
   "source": [
    "A product offer can be applied only if people buys more than 2 items, and the offer has not expired. Premium members do not need to buy a specific amount of products."
   ]
  },
  {
   "cell_type": "code",
   "execution_count": 20,
   "metadata": {},
   "outputs": [
    {
     "name": "stdout",
     "output_type": "stream",
     "text": [
      "True\n"
     ]
    }
   ],
   "source": [
    "# hardcoding the boolean value to solve the problem\n",
    "regular_member= True\n",
    "offer_valid= True\n",
    "premium_member= False\n",
    "\n",
    "customer= regular_member and offer_valid or premium_member\n",
    "print(customer)"
   ]
  },
  {
   "cell_type": "code",
   "execution_count": 52,
   "metadata": {},
   "outputs": [],
   "source": [
    "#creating a function to check if the customer can use the offer\n",
    "def offer (member, valid, num):\n",
    "    if member == \"premium\":\n",
    "        return print(\"The customer may use the coupon.\")\n",
    "    elif member == \"regular\":\n",
    "        if num >=2 and valid == \"yes\":\n",
    "            return print (\"The customer may use the coupon\")\n",
    "        else:\n",
    "            return print(\"The customer may not use the coupon\")\n",
    "    else:\n",
    "        return print(\"Please check coupon requirments\")"
   ]
  },
  {
   "cell_type": "code",
   "execution_count": 53,
   "metadata": {},
   "outputs": [
    {
     "name": "stdout",
     "output_type": "stream",
     "text": [
      "The customer may use the coupon.\n",
      "The customer may not use the coupon\n"
     ]
    }
   ],
   "source": [
    "offer(\"premium\", \"no\", 1)\n",
    "offer(\"regular\", \"no\", 5)"
   ]
  },
  {
   "cell_type": "markdown",
   "metadata": {},
   "source": [
    "Use the following code to follow the instructions below:\n",
    "\n",
    "username = 'codeup'\n",
    "password = 'notastrongpassword'\n",
    "Create a variable that holds a boolean value for each of the following conditions:\n",
    "\n",
    "the password must be at least 5 characters\n",
    "the username must be no more than 20 characters\n",
    "the password must not be the same as the username\n",
    "bonus neither the username or password can start or end with whitespace"
   ]
  },
  {
   "cell_type": "code",
   "execution_count": null,
   "metadata": {},
   "outputs": [],
   "source": [
    "password_length= len(password) >= 5, print (\"Password is greater than 5 characters.\")\n",
    "password_check= password != username, print (\"Password is not the username\")\n",
    "username_length= len(username) <= 20, print (\"Username is less than 20 characters\")\n",
    "space_check = (username[:1] != ' ' and username[:-1] != ' ') and (password[:1] != ' ' and password[:-1] != ' ')\n",
    "good_username_and_password = password_length and username_length and password_check and space_check\n",
    "print (good_username_and_password, \"You have a good username and password.\") "
   ]
  },
  {
   "cell_type": "code",
   "execution_count": 28,
   "metadata": {},
   "outputs": [],
   "source": [
    "#creating a function to check if a username and password meets criteria\n",
    "def criteria_checker(username, passcode):\n",
    "    password_length= len(passcode) >= 5\n",
    "    password_check= passcode != username\n",
    "    username_length= len(username) <= 20\n",
    "    space_check = (username[:1] != ' ' and username[:-1] != ' ') and (passcode[:1] != ' ' and passcode[:-1] != ' ')\n",
    "    if password_length and username_length and password_check and space_check == True:\n",
    "        return print(\"You have a good username and password.\")\n",
    "    else:\n",
    "        return print(\"Your username or password does not meet the criteria. Please recheck the criteria.\")"
   ]
  },
  {
   "cell_type": "code",
   "execution_count": 29,
   "metadata": {},
   "outputs": [
    {
     "name": "stdout",
     "output_type": "stream",
     "text": [
      "Your username or password does not meet the criteria. Please recheck the criteria.\n",
      "You have a good username and password.\n"
     ]
    }
   ],
   "source": [
    "criteria_checker(\"apple\", \"pie\")\n",
    "criteria_checker(\"chocolate\", \"pudding\")"
   ]
  },
  {
   "cell_type": "code",
   "execution_count": 40,
   "metadata": {},
   "outputs": [
    {
     "name": "stdout",
     "output_type": "stream",
     "text": [
      "fatal: pathspec 'data_types_and_variable.ipynb' did not match any files\r\n"
     ]
    }
   ],
   "source": [
    "\\"
   ]
  },
  {
   "cell_type": "code",
   "execution_count": null,
   "metadata": {},
   "outputs": [],
   "source": []
  }
 ],
 "metadata": {
  "kernelspec": {
   "display_name": "Python 3",
   "language": "python",
   "name": "python3"
  },
  "language_info": {
   "codemirror_mode": {
    "name": "ipython",
    "version": 3
   },
   "file_extension": ".py",
   "mimetype": "text/x-python",
   "name": "python",
   "nbconvert_exporter": "python",
   "pygments_lexer": "ipython3",
   "version": "3.7.6"
  }
 },
 "nbformat": 4,
 "nbformat_minor": 4
}
